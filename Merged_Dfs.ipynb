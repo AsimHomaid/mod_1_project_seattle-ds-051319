{
 "cells": [
  {
   "cell_type": "code",
   "execution_count": 1,
   "metadata": {},
   "outputs": [],
   "source": [
    "import pandas as pd\n",
    "import numpy as np\n",
    "import matplotlib.pyplot as plt\n"
   ]
  },
  {
   "cell_type": "code",
   "execution_count": 2,
   "metadata": {},
   "outputs": [],
   "source": [
    "parcel_df = pd.read_csv('Parcel.csv', encoding='latin-1')"
   ]
  },
  {
   "cell_type": "code",
   "execution_count": 3,
   "metadata": {},
   "outputs": [],
   "source": [
    "parcel_df= parcel_df.set_index(keys=['Major', 'Minor'])"
   ]
  },
  {
   "cell_type": "code",
   "execution_count": 4,
   "metadata": {},
   "outputs": [],
   "source": [
    "# Only take KING COUNTY properties from parcel.csv\n",
    "parcel_df = parcel_df[parcel_df['DistrictName']=='KING COUNTY']"
   ]
  },
  {
   "cell_type": "code",
   "execution_count": 5,
   "metadata": {},
   "outputs": [],
   "source": [
    "# parcel_df.head()"
   ]
  },
  {
   "cell_type": "code",
   "execution_count": 6,
   "metadata": {},
   "outputs": [],
   "source": [
    "parcel_df = parcel_df[[\"SqFtLot\", \"WfntLocation\"]]"
   ]
  },
  {
   "cell_type": "code",
   "execution_count": 7,
   "metadata": {
    "scrolled": true
   },
   "outputs": [],
   "source": [
    "# parcel_df.head()"
   ]
  },
  {
   "cell_type": "code",
   "execution_count": 8,
   "metadata": {},
   "outputs": [
    {
     "name": "stderr",
     "output_type": "stream",
     "text": [
      "/Applications/anaconda3/lib/python3.6/site-packages/IPython/core/interactiveshell.py:2785: DtypeWarning: Columns (11) have mixed types. Specify dtype option on import or set low_memory=False.\n",
      "  interactivity=interactivity, compiler=compiler, result=result)\n"
     ]
    }
   ],
   "source": [
    "residentail_blg_df = pd.read_csv('ResBldg.csv')"
   ]
  },
  {
   "cell_type": "code",
   "execution_count": 9,
   "metadata": {},
   "outputs": [],
   "source": [
    "residentail_blg_df.columns\n",
    "residentail_blg_df = residentail_blg_df[['Major', 'Minor', 'Address', 'SqFtTotLiving', 'Bedrooms']]\n",
    "# residentail_blg_df.head()"
   ]
  },
  {
   "cell_type": "code",
   "execution_count": 10,
   "metadata": {},
   "outputs": [
    {
     "name": "stderr",
     "output_type": "stream",
     "text": [
      "/Applications/anaconda3/lib/python3.6/site-packages/IPython/core/interactiveshell.py:2785: DtypeWarning: Columns (1,2) have mixed types. Specify dtype option on import or set low_memory=False.\n",
      "  interactivity=interactivity, compiler=compiler, result=result)\n"
     ]
    }
   ],
   "source": [
    "sale_df = pd.read_csv('Sale.csv')\n"
   ]
  },
  {
   "cell_type": "code",
   "execution_count": 11,
   "metadata": {},
   "outputs": [
    {
     "data": {
      "text/html": [
       "<div>\n",
       "<style scoped>\n",
       "    .dataframe tbody tr th:only-of-type {\n",
       "        vertical-align: middle;\n",
       "    }\n",
       "\n",
       "    .dataframe tbody tr th {\n",
       "        vertical-align: top;\n",
       "    }\n",
       "\n",
       "    .dataframe thead th {\n",
       "        text-align: right;\n",
       "    }\n",
       "</style>\n",
       "<table border=\"1\" class=\"dataframe\">\n",
       "  <thead>\n",
       "    <tr style=\"text-align: right;\">\n",
       "      <th></th>\n",
       "      <th>ExciseTaxNbr</th>\n",
       "      <th>Major</th>\n",
       "      <th>Minor</th>\n",
       "      <th>DocumentDate</th>\n",
       "      <th>SalePrice</th>\n",
       "      <th>RecordingNbr</th>\n",
       "      <th>Volume</th>\n",
       "      <th>Page</th>\n",
       "      <th>PlatNbr</th>\n",
       "      <th>PlatType</th>\n",
       "      <th>...</th>\n",
       "      <th>PropertyType</th>\n",
       "      <th>PrincipalUse</th>\n",
       "      <th>SaleInstrument</th>\n",
       "      <th>AFForestLand</th>\n",
       "      <th>AFCurrentUseLand</th>\n",
       "      <th>AFNonProfitUse</th>\n",
       "      <th>AFHistoricProperty</th>\n",
       "      <th>SaleReason</th>\n",
       "      <th>PropertyClass</th>\n",
       "      <th>SaleWarning</th>\n",
       "    </tr>\n",
       "  </thead>\n",
       "  <tbody>\n",
       "    <tr>\n",
       "      <th>0</th>\n",
       "      <td>2687551</td>\n",
       "      <td>138860</td>\n",
       "      <td>110</td>\n",
       "      <td>08/21/2014</td>\n",
       "      <td>245000</td>\n",
       "      <td>20140828001436</td>\n",
       "      <td></td>\n",
       "      <td></td>\n",
       "      <td></td>\n",
       "      <td></td>\n",
       "      <td>...</td>\n",
       "      <td>3</td>\n",
       "      <td>6</td>\n",
       "      <td>3</td>\n",
       "      <td>N</td>\n",
       "      <td>N</td>\n",
       "      <td>N</td>\n",
       "      <td>N</td>\n",
       "      <td>1</td>\n",
       "      <td>8</td>\n",
       "      <td></td>\n",
       "    </tr>\n",
       "    <tr>\n",
       "      <th>1</th>\n",
       "      <td>1235111</td>\n",
       "      <td>664885</td>\n",
       "      <td>40</td>\n",
       "      <td>07/09/1991</td>\n",
       "      <td>0</td>\n",
       "      <td>199203161090</td>\n",
       "      <td>071</td>\n",
       "      <td>001</td>\n",
       "      <td>664885</td>\n",
       "      <td>C</td>\n",
       "      <td>...</td>\n",
       "      <td>3</td>\n",
       "      <td>0</td>\n",
       "      <td>26</td>\n",
       "      <td>N</td>\n",
       "      <td>N</td>\n",
       "      <td>N</td>\n",
       "      <td>N</td>\n",
       "      <td>18</td>\n",
       "      <td>3</td>\n",
       "      <td>11</td>\n",
       "    </tr>\n",
       "    <tr>\n",
       "      <th>2</th>\n",
       "      <td>2704079</td>\n",
       "      <td>423943</td>\n",
       "      <td>50</td>\n",
       "      <td>10/11/2014</td>\n",
       "      <td>0</td>\n",
       "      <td>20141205000558</td>\n",
       "      <td></td>\n",
       "      <td></td>\n",
       "      <td></td>\n",
       "      <td></td>\n",
       "      <td>...</td>\n",
       "      <td>3</td>\n",
       "      <td>6</td>\n",
       "      <td>15</td>\n",
       "      <td>N</td>\n",
       "      <td>N</td>\n",
       "      <td>N</td>\n",
       "      <td>N</td>\n",
       "      <td>18</td>\n",
       "      <td>8</td>\n",
       "      <td>18 31 51</td>\n",
       "    </tr>\n",
       "    <tr>\n",
       "      <th>3</th>\n",
       "      <td>2584094</td>\n",
       "      <td>403700</td>\n",
       "      <td>715</td>\n",
       "      <td>01/04/2013</td>\n",
       "      <td>0</td>\n",
       "      <td>20130110000910</td>\n",
       "      <td></td>\n",
       "      <td></td>\n",
       "      <td></td>\n",
       "      <td></td>\n",
       "      <td>...</td>\n",
       "      <td>3</td>\n",
       "      <td>6</td>\n",
       "      <td>15</td>\n",
       "      <td>N</td>\n",
       "      <td>N</td>\n",
       "      <td>N</td>\n",
       "      <td>N</td>\n",
       "      <td>11</td>\n",
       "      <td>8</td>\n",
       "      <td>18 31 38</td>\n",
       "    </tr>\n",
       "    <tr>\n",
       "      <th>4</th>\n",
       "      <td>1056831</td>\n",
       "      <td>951120</td>\n",
       "      <td>900</td>\n",
       "      <td>04/20/1989</td>\n",
       "      <td>85000</td>\n",
       "      <td>198904260448</td>\n",
       "      <td>117</td>\n",
       "      <td>053</td>\n",
       "      <td>951120</td>\n",
       "      <td>P</td>\n",
       "      <td>...</td>\n",
       "      <td>3</td>\n",
       "      <td>0</td>\n",
       "      <td>2</td>\n",
       "      <td>N</td>\n",
       "      <td>N</td>\n",
       "      <td>N</td>\n",
       "      <td>N</td>\n",
       "      <td>1</td>\n",
       "      <td>9</td>\n",
       "      <td>49</td>\n",
       "    </tr>\n",
       "  </tbody>\n",
       "</table>\n",
       "<p>5 rows × 24 columns</p>\n",
       "</div>"
      ],
      "text/plain": [
       "   ExciseTaxNbr   Major Minor DocumentDate  SalePrice    RecordingNbr Volume  \\\n",
       "0       2687551  138860   110   08/21/2014     245000  20140828001436          \n",
       "1       1235111  664885    40   07/09/1991          0  199203161090      071   \n",
       "2       2704079  423943    50   10/11/2014          0  20141205000558          \n",
       "3       2584094  403700   715   01/04/2013          0  20130110000910          \n",
       "4       1056831  951120   900   04/20/1989      85000  198904260448      117   \n",
       "\n",
       "  Page PlatNbr PlatType     ...     PropertyType PrincipalUse SaleInstrument  \\\n",
       "0                           ...                3            6              3   \n",
       "1  001  664885        C     ...                3            0             26   \n",
       "2                           ...                3            6             15   \n",
       "3                           ...                3            6             15   \n",
       "4  053  951120        P     ...                3            0              2   \n",
       "\n",
       "  AFForestLand  AFCurrentUseLand  AFNonProfitUse  AFHistoricProperty  \\\n",
       "0            N                 N               N                   N   \n",
       "1            N                 N               N                   N   \n",
       "2            N                 N               N                   N   \n",
       "3            N                 N               N                   N   \n",
       "4            N                 N               N                   N   \n",
       "\n",
       "  SaleReason PropertyClass SaleWarning  \n",
       "0          1             8              \n",
       "1         18             3          11  \n",
       "2         18             8    18 31 51  \n",
       "3         11             8    18 31 38  \n",
       "4          1             9          49  \n",
       "\n",
       "[5 rows x 24 columns]"
      ]
     },
     "execution_count": 11,
     "metadata": {},
     "output_type": "execute_result"
    }
   ],
   "source": [
    "sale_df.head()\n"
   ]
  },
  {
   "cell_type": "code",
   "execution_count": 13,
   "metadata": {
    "scrolled": true
   },
   "outputs": [
    {
     "ename": "ValueError",
     "evalue": "You are trying to merge on object and int64 columns. If you wish to proceed you should use pd.concat",
     "output_type": "error",
     "traceback": [
      "\u001b[0;31m---------------------------------------------------------------------------\u001b[0m",
      "\u001b[0;31mValueError\u001b[0m                                Traceback (most recent call last)",
      "\u001b[0;32m<ipython-input-13-eedaf729a1f9>\u001b[0m in \u001b[0;36m<module>\u001b[0;34m()\u001b[0m\n\u001b[0;32m----> 1\u001b[0;31m \u001b[0msale_parcel_df\u001b[0m \u001b[0;34m=\u001b[0m \u001b[0mpd\u001b[0m\u001b[0;34m.\u001b[0m\u001b[0mmerge\u001b[0m\u001b[0;34m(\u001b[0m\u001b[0msale_df\u001b[0m\u001b[0;34m,\u001b[0m \u001b[0mparcel_df\u001b[0m\u001b[0;34m,\u001b[0m \u001b[0mright_index\u001b[0m\u001b[0;34m=\u001b[0m\u001b[0;32mTrue\u001b[0m\u001b[0;34m,\u001b[0m \u001b[0mleft_on\u001b[0m\u001b[0;34m=\u001b[0m\u001b[0;34m[\u001b[0m\u001b[0;34m'Major'\u001b[0m\u001b[0;34m,\u001b[0m \u001b[0;34m'Minor'\u001b[0m\u001b[0;34m]\u001b[0m\u001b[0;34m)\u001b[0m\u001b[0;34m\u001b[0m\u001b[0m\n\u001b[0m",
      "\u001b[0;32m/Applications/anaconda3/lib/python3.6/site-packages/pandas/core/reshape/merge.py\u001b[0m in \u001b[0;36mmerge\u001b[0;34m(left, right, how, on, left_on, right_on, left_index, right_index, sort, suffixes, copy, indicator, validate)\u001b[0m\n\u001b[1;32m     58\u001b[0m                          \u001b[0mright_index\u001b[0m\u001b[0;34m=\u001b[0m\u001b[0mright_index\u001b[0m\u001b[0;34m,\u001b[0m \u001b[0msort\u001b[0m\u001b[0;34m=\u001b[0m\u001b[0msort\u001b[0m\u001b[0;34m,\u001b[0m \u001b[0msuffixes\u001b[0m\u001b[0;34m=\u001b[0m\u001b[0msuffixes\u001b[0m\u001b[0;34m,\u001b[0m\u001b[0;34m\u001b[0m\u001b[0m\n\u001b[1;32m     59\u001b[0m                          \u001b[0mcopy\u001b[0m\u001b[0;34m=\u001b[0m\u001b[0mcopy\u001b[0m\u001b[0;34m,\u001b[0m \u001b[0mindicator\u001b[0m\u001b[0;34m=\u001b[0m\u001b[0mindicator\u001b[0m\u001b[0;34m,\u001b[0m\u001b[0;34m\u001b[0m\u001b[0m\n\u001b[0;32m---> 60\u001b[0;31m                          validate=validate)\n\u001b[0m\u001b[1;32m     61\u001b[0m     \u001b[0;32mreturn\u001b[0m \u001b[0mop\u001b[0m\u001b[0;34m.\u001b[0m\u001b[0mget_result\u001b[0m\u001b[0;34m(\u001b[0m\u001b[0;34m)\u001b[0m\u001b[0;34m\u001b[0m\u001b[0m\n\u001b[1;32m     62\u001b[0m \u001b[0;34m\u001b[0m\u001b[0m\n",
      "\u001b[0;32m/Applications/anaconda3/lib/python3.6/site-packages/pandas/core/reshape/merge.py\u001b[0m in \u001b[0;36m__init__\u001b[0;34m(self, left, right, how, on, left_on, right_on, axis, left_index, right_index, sort, suffixes, copy, indicator, validate)\u001b[0m\n\u001b[1;32m    552\u001b[0m         \u001b[0;31m# validate the merge keys dtypes. We may need to coerce\u001b[0m\u001b[0;34m\u001b[0m\u001b[0;34m\u001b[0m\u001b[0m\n\u001b[1;32m    553\u001b[0m         \u001b[0;31m# to avoid incompat dtypes\u001b[0m\u001b[0;34m\u001b[0m\u001b[0;34m\u001b[0m\u001b[0m\n\u001b[0;32m--> 554\u001b[0;31m         \u001b[0mself\u001b[0m\u001b[0;34m.\u001b[0m\u001b[0m_maybe_coerce_merge_keys\u001b[0m\u001b[0;34m(\u001b[0m\u001b[0;34m)\u001b[0m\u001b[0;34m\u001b[0m\u001b[0m\n\u001b[0m\u001b[1;32m    555\u001b[0m \u001b[0;34m\u001b[0m\u001b[0m\n\u001b[1;32m    556\u001b[0m         \u001b[0;31m# If argument passed to validate,\u001b[0m\u001b[0;34m\u001b[0m\u001b[0;34m\u001b[0m\u001b[0m\n",
      "\u001b[0;32m/Applications/anaconda3/lib/python3.6/site-packages/pandas/core/reshape/merge.py\u001b[0m in \u001b[0;36m_maybe_coerce_merge_keys\u001b[0;34m(self)\u001b[0m\n\u001b[1;32m    978\u001b[0m                 \u001b[0;32mraise\u001b[0m \u001b[0mValueError\u001b[0m\u001b[0;34m(\u001b[0m\u001b[0mmsg\u001b[0m\u001b[0;34m)\u001b[0m\u001b[0;34m\u001b[0m\u001b[0m\n\u001b[1;32m    979\u001b[0m             \u001b[0;32melif\u001b[0m \u001b[0;32mnot\u001b[0m \u001b[0mis_numeric_dtype\u001b[0m\u001b[0;34m(\u001b[0m\u001b[0mlk\u001b[0m\u001b[0;34m)\u001b[0m \u001b[0;32mand\u001b[0m \u001b[0mis_numeric_dtype\u001b[0m\u001b[0;34m(\u001b[0m\u001b[0mrk\u001b[0m\u001b[0;34m)\u001b[0m\u001b[0;34m:\u001b[0m\u001b[0;34m\u001b[0m\u001b[0m\n\u001b[0;32m--> 980\u001b[0;31m                 \u001b[0;32mraise\u001b[0m \u001b[0mValueError\u001b[0m\u001b[0;34m(\u001b[0m\u001b[0mmsg\u001b[0m\u001b[0;34m)\u001b[0m\u001b[0;34m\u001b[0m\u001b[0m\n\u001b[0m\u001b[1;32m    981\u001b[0m             \u001b[0;32melif\u001b[0m \u001b[0mis_datetimelike\u001b[0m\u001b[0;34m(\u001b[0m\u001b[0mlk\u001b[0m\u001b[0;34m)\u001b[0m \u001b[0;32mand\u001b[0m \u001b[0;32mnot\u001b[0m \u001b[0mis_datetimelike\u001b[0m\u001b[0;34m(\u001b[0m\u001b[0mrk\u001b[0m\u001b[0;34m)\u001b[0m\u001b[0;34m:\u001b[0m\u001b[0;34m\u001b[0m\u001b[0m\n\u001b[1;32m    982\u001b[0m                 \u001b[0;32mraise\u001b[0m \u001b[0mValueError\u001b[0m\u001b[0;34m(\u001b[0m\u001b[0mmsg\u001b[0m\u001b[0;34m)\u001b[0m\u001b[0;34m\u001b[0m\u001b[0m\n",
      "\u001b[0;31mValueError\u001b[0m: You are trying to merge on object and int64 columns. If you wish to proceed you should use pd.concat"
     ]
    }
   ],
   "source": [
    "sale_parcel_df = pd.merge(sale_df, parcel_df, right_index=True, left_on=['Major', 'Minor'])\n"
   ]
  },
  {
   "cell_type": "code",
   "execution_count": null,
   "metadata": {},
   "outputs": [],
   "source": [
    "all_df = pd.merge(sale_parcel_df, unit_df, right_index=True, left_on=['Major', 'Minor'])"
   ]
  },
  {
   "cell_type": "code",
   "execution_count": null,
   "metadata": {},
   "outputs": [],
   "source": [
    "unit_df.shape\n"
   ]
  },
  {
   "cell_type": "code",
   "execution_count": null,
   "metadata": {},
   "outputs": [],
   "source": [
    "sale_df.columns\n",
    "# removing the 2 rows without Major+Minor index\n"
   ]
  },
  {
   "cell_type": "code",
   "execution_count": 12,
   "metadata": {},
   "outputs": [],
   "source": [
    "sale_df['Major'] = pd.to_numeric(sale_df['Major'], errors='coerce')\n",
    "sale_df['Minor'] = pd.to_numeric(sale_df['Minor'], errors='coerce')\n",
    "\n"
   ]
  },
  {
   "cell_type": "code",
   "execution_count": 13,
   "metadata": {},
   "outputs": [],
   "source": [
    "sale_df = sale_df.dropna()\n"
   ]
  },
  {
   "cell_type": "code",
   "execution_count": 14,
   "metadata": {
    "scrolled": true
   },
   "outputs": [
    {
     "data": {
      "text/plain": [
       "ExciseTaxNbr          0\n",
       "Major                 0\n",
       "Minor                 0\n",
       "DocumentDate          0\n",
       "SalePrice             0\n",
       "RecordingNbr          0\n",
       "Volume                0\n",
       "Page                  0\n",
       "PlatNbr               0\n",
       "PlatType              0\n",
       "PlatLot               0\n",
       "PlatBlock             0\n",
       "SellerName            0\n",
       "BuyerName             0\n",
       "PropertyType          0\n",
       "PrincipalUse          0\n",
       "SaleInstrument        0\n",
       "AFForestLand          0\n",
       "AFCurrentUseLand      0\n",
       "AFNonProfitUse        0\n",
       "AFHistoricProperty    0\n",
       "SaleReason            0\n",
       "PropertyClass         0\n",
       "SaleWarning           0\n",
       "dtype: int64"
      ]
     },
     "execution_count": 14,
     "metadata": {},
     "output_type": "execute_result"
    }
   ],
   "source": [
    "sale_df.isna().sum()\n"
   ]
  },
  {
   "cell_type": "code",
   "execution_count": null,
   "metadata": {},
   "outputs": [],
   "source": [
    "sale_df = sale_df.set_index(keys=['ExciseTaxNbr','Major', 'Minor'])\n",
    "\n",
    "sale_df.head()\n"
   ]
  },
  {
   "cell_type": "code",
   "execution_count": null,
   "metadata": {},
   "outputs": [],
   "source": [
    "parcel_df.head()\n"
   ]
  },
  {
   "cell_type": "code",
   "execution_count": null,
   "metadata": {},
   "outputs": [],
   "source": [
    "sale_df.isna().sum()\n"
   ]
  },
  {
   "cell_type": "code",
   "execution_count": null,
   "metadata": {},
   "outputs": [],
   "source": [
    "sale_df.info()\n"
   ]
  },
  {
   "cell_type": "code",
   "execution_count": null,
   "metadata": {},
   "outputs": [],
   "source": [
    "sale_df.head(1)\n"
   ]
  },
  {
   "cell_type": "code",
   "execution_count": null,
   "metadata": {},
   "outputs": [],
   "source": [
    "parcel_df\n"
   ]
  },
  {
   "cell_type": "code",
   "execution_count": null,
   "metadata": {},
   "outputs": [],
   "source": [
    "unit_df.info()\n",
    "\n"
   ]
  },
  {
   "cell_type": "code",
   "execution_count": null,
   "metadata": {},
   "outputs": [],
   "source": [
    "unit_df.head()"
   ]
  },
  {
   "cell_type": "code",
   "execution_count": null,
   "metadata": {
    "scrolled": true
   },
   "outputs": [],
   "source": [
    "unit_df['NbrBedrooms'].astype(int)"
   ]
  },
  {
   "cell_type": "code",
   "execution_count": null,
   "metadata": {},
   "outputs": [],
   "source": [
    "#assuming S means Studio\n",
    "nbr = unit_df['NbrBedrooms']\n"
   ]
  },
  {
   "cell_type": "code",
   "execution_count": null,
   "metadata": {},
   "outputs": [],
   "source": [
    "nbr = nbr.str.replace('S', '0')\n"
   ]
  },
  {
   "cell_type": "code",
   "execution_count": null,
   "metadata": {},
   "outputs": [],
   "source": [
    "#Replace spaces with 0\n",
    "nbr = nbr.str.replace(' ', '0')\n"
   ]
  },
  {
   "cell_type": "code",
   "execution_count": null,
   "metadata": {},
   "outputs": [],
   "source": [
    "nbr = nbr.astype(float)\n"
   ]
  },
  {
   "cell_type": "code",
   "execution_count": null,
   "metadata": {},
   "outputs": [],
   "source": [
    "unit_df['NbrBedrooms'] = nbr\n"
   ]
  },
  {
   "cell_type": "code",
   "execution_count": null,
   "metadata": {},
   "outputs": [],
   "source": [
    "unit_df.info()\n"
   ]
  },
  {
   "cell_type": "code",
   "execution_count": null,
   "metadata": {},
   "outputs": [],
   "source": [
    "# what im going to do\n",
    "wftn = parcel_df['WfntLocation']\n"
   ]
  },
  {
   "cell_type": "code",
   "execution_count": null,
   "metadata": {},
   "outputs": [],
   "source": [
    "wftn = wftn.astype(bool)\n"
   ]
  },
  {
   "cell_type": "code",
   "execution_count": null,
   "metadata": {},
   "outputs": [],
   "source": [
    "parcel_df['WfntLocation'] =wftn\n"
   ]
  },
  {
   "cell_type": "code",
   "execution_count": null,
   "metadata": {},
   "outputs": [],
   "source": [
    "parcel_df.info()\n"
   ]
  },
  {
   "cell_type": "code",
   "execution_count": null,
   "metadata": {},
   "outputs": [],
   "source": [
    "parcel_df.head(5)\n",
    "\n"
   ]
  },
  {
   "cell_type": "code",
   "execution_count": null,
   "metadata": {},
   "outputs": [],
   "source": [
    "unit_df.head(5)\n",
    "\n"
   ]
  },
  {
   "cell_type": "code",
   "execution_count": null,
   "metadata": {},
   "outputs": [],
   "source": [
    "parcel_unit_df = pd.merge(parcel_df, unit_df, how='inner', left_index=True, right_index=True)"
   ]
  },
  {
   "cell_type": "code",
   "execution_count": null,
   "metadata": {},
   "outputs": [],
   "source": [
    "parcel_unit_df.info()\n"
   ]
  },
  {
   "cell_type": "code",
   "execution_count": null,
   "metadata": {},
   "outputs": [],
   "source": [
    "sale_df.head()\n",
    "sale_df.reset_index(level=0,inplace=True)"
   ]
  },
  {
   "cell_type": "code",
   "execution_count": null,
   "metadata": {
    "scrolled": true
   },
   "outputs": [],
   "source": [
    "sale_df\n"
   ]
  },
  {
   "cell_type": "code",
   "execution_count": null,
   "metadata": {},
   "outputs": [],
   "source": [
    "unit_price_df = pd.merge(sale_df, unit_df, how='inner', left_index=True , right_index=True)"
   ]
  },
  {
   "cell_type": "code",
   "execution_count": null,
   "metadata": {},
   "outputs": [],
   "source": [
    "# YAY! the inner join worked\n",
    "unit_price_df"
   ]
  },
  {
   "cell_type": "code",
   "execution_count": null,
   "metadata": {},
   "outputs": [],
   "source": [
    "# this doesnt work\n",
    "housing_df = pd.merge(unit_price_df, parcel_df, how='left', left_index=True , right_index=True)"
   ]
  },
  {
   "cell_type": "code",
   "execution_count": null,
   "metadata": {},
   "outputs": [],
   "source": [
    "housing_df.info()\n"
   ]
  },
  {
   "cell_type": "code",
   "execution_count": null,
   "metadata": {},
   "outputs": [],
   "source": [
    "sale_df = sale_df[['DocumentDate','SalePrice', 'PropertyClass']]\n"
   ]
  },
  {
   "cell_type": "code",
   "execution_count": null,
   "metadata": {},
   "outputs": [],
   "source": [
    "sale_df\n"
   ]
  },
  {
   "cell_type": "code",
   "execution_count": 15,
   "metadata": {},
   "outputs": [],
   "source": [
    "new_df = pd.merge(sale_df, residentail_blg_df, left_on=['Major', 'Minor'], right_on=['Major', 'Minor'])"
   ]
  },
  {
   "cell_type": "code",
   "execution_count": 16,
   "metadata": {},
   "outputs": [
    {
     "data": {
      "text/html": [
       "<div>\n",
       "<style scoped>\n",
       "    .dataframe tbody tr th:only-of-type {\n",
       "        vertical-align: middle;\n",
       "    }\n",
       "\n",
       "    .dataframe tbody tr th {\n",
       "        vertical-align: top;\n",
       "    }\n",
       "\n",
       "    .dataframe thead th {\n",
       "        text-align: right;\n",
       "    }\n",
       "</style>\n",
       "<table border=\"1\" class=\"dataframe\">\n",
       "  <thead>\n",
       "    <tr style=\"text-align: right;\">\n",
       "      <th></th>\n",
       "      <th>ExciseTaxNbr</th>\n",
       "      <th>Major</th>\n",
       "      <th>Minor</th>\n",
       "      <th>DocumentDate</th>\n",
       "      <th>SalePrice</th>\n",
       "      <th>RecordingNbr</th>\n",
       "      <th>Volume</th>\n",
       "      <th>Page</th>\n",
       "      <th>PlatNbr</th>\n",
       "      <th>PlatType</th>\n",
       "      <th>...</th>\n",
       "      <th>AFForestLand</th>\n",
       "      <th>AFCurrentUseLand</th>\n",
       "      <th>AFNonProfitUse</th>\n",
       "      <th>AFHistoricProperty</th>\n",
       "      <th>SaleReason</th>\n",
       "      <th>PropertyClass</th>\n",
       "      <th>SaleWarning</th>\n",
       "      <th>Address</th>\n",
       "      <th>SqFtTotLiving</th>\n",
       "      <th>Bedrooms</th>\n",
       "    </tr>\n",
       "  </thead>\n",
       "  <tbody>\n",
       "    <tr>\n",
       "      <th>0</th>\n",
       "      <td>2687551</td>\n",
       "      <td>138860.0</td>\n",
       "      <td>110.0</td>\n",
       "      <td>08/21/2014</td>\n",
       "      <td>245000</td>\n",
       "      <td>20140828001436</td>\n",
       "      <td></td>\n",
       "      <td></td>\n",
       "      <td></td>\n",
       "      <td></td>\n",
       "      <td>...</td>\n",
       "      <td>N</td>\n",
       "      <td>N</td>\n",
       "      <td>N</td>\n",
       "      <td>N</td>\n",
       "      <td>1</td>\n",
       "      <td>8</td>\n",
       "      <td></td>\n",
       "      <td>806   23RD ST SE  98002</td>\n",
       "      <td>1490</td>\n",
       "      <td>3</td>\n",
       "    </tr>\n",
       "    <tr>\n",
       "      <th>1</th>\n",
       "      <td>1066933</td>\n",
       "      <td>138860.0</td>\n",
       "      <td>110.0</td>\n",
       "      <td>06/12/1989</td>\n",
       "      <td>109300</td>\n",
       "      <td>198906191556</td>\n",
       "      <td>144</td>\n",
       "      <td>021</td>\n",
       "      <td>138860</td>\n",
       "      <td>P</td>\n",
       "      <td>...</td>\n",
       "      <td>N</td>\n",
       "      <td>N</td>\n",
       "      <td>N</td>\n",
       "      <td>N</td>\n",
       "      <td>1</td>\n",
       "      <td>8</td>\n",
       "      <td></td>\n",
       "      <td>806   23RD ST SE  98002</td>\n",
       "      <td>1490</td>\n",
       "      <td>3</td>\n",
       "    </tr>\n",
       "    <tr>\n",
       "      <th>2</th>\n",
       "      <td>2102034</td>\n",
       "      <td>138860.0</td>\n",
       "      <td>110.0</td>\n",
       "      <td>01/16/2005</td>\n",
       "      <td>14684</td>\n",
       "      <td>20050216001248</td>\n",
       "      <td></td>\n",
       "      <td></td>\n",
       "      <td></td>\n",
       "      <td></td>\n",
       "      <td>...</td>\n",
       "      <td>N</td>\n",
       "      <td>N</td>\n",
       "      <td>N</td>\n",
       "      <td>N</td>\n",
       "      <td>14</td>\n",
       "      <td>8</td>\n",
       "      <td>51 52</td>\n",
       "      <td>806   23RD ST SE  98002</td>\n",
       "      <td>1490</td>\n",
       "      <td>3</td>\n",
       "    </tr>\n",
       "    <tr>\n",
       "      <th>3</th>\n",
       "      <td>2131568</td>\n",
       "      <td>138860.0</td>\n",
       "      <td>110.0</td>\n",
       "      <td>06/08/2005</td>\n",
       "      <td>0</td>\n",
       "      <td>20050617000041</td>\n",
       "      <td></td>\n",
       "      <td></td>\n",
       "      <td></td>\n",
       "      <td></td>\n",
       "      <td>...</td>\n",
       "      <td>N</td>\n",
       "      <td>N</td>\n",
       "      <td>N</td>\n",
       "      <td>N</td>\n",
       "      <td>5</td>\n",
       "      <td>8</td>\n",
       "      <td>31 51</td>\n",
       "      <td>806   23RD ST SE  98002</td>\n",
       "      <td>1490</td>\n",
       "      <td>3</td>\n",
       "    </tr>\n",
       "    <tr>\n",
       "      <th>4</th>\n",
       "      <td>2704079</td>\n",
       "      <td>423943.0</td>\n",
       "      <td>50.0</td>\n",
       "      <td>10/11/2014</td>\n",
       "      <td>0</td>\n",
       "      <td>20141205000558</td>\n",
       "      <td></td>\n",
       "      <td></td>\n",
       "      <td></td>\n",
       "      <td></td>\n",
       "      <td>...</td>\n",
       "      <td>N</td>\n",
       "      <td>N</td>\n",
       "      <td>N</td>\n",
       "      <td>N</td>\n",
       "      <td>18</td>\n",
       "      <td>8</td>\n",
       "      <td>18 31 51</td>\n",
       "      <td>31814   121ST AVE SE  98092</td>\n",
       "      <td>960</td>\n",
       "      <td>3</td>\n",
       "    </tr>\n",
       "  </tbody>\n",
       "</table>\n",
       "<p>5 rows × 27 columns</p>\n",
       "</div>"
      ],
      "text/plain": [
       "   ExciseTaxNbr     Major  Minor DocumentDate  SalePrice    RecordingNbr  \\\n",
       "0       2687551  138860.0  110.0   08/21/2014     245000  20140828001436   \n",
       "1       1066933  138860.0  110.0   06/12/1989     109300  198906191556     \n",
       "2       2102034  138860.0  110.0   01/16/2005      14684  20050216001248   \n",
       "3       2131568  138860.0  110.0   06/08/2005          0  20050617000041   \n",
       "4       2704079  423943.0   50.0   10/11/2014          0  20141205000558   \n",
       "\n",
       "  Volume Page PlatNbr PlatType   ...    AFForestLand AFCurrentUseLand  \\\n",
       "0                                ...               N                N   \n",
       "1    144  021  138860        P   ...               N                N   \n",
       "2                                ...               N                N   \n",
       "3                                ...               N                N   \n",
       "4                                ...               N                N   \n",
       "\n",
       "  AFNonProfitUse AFHistoricProperty  SaleReason  PropertyClass  SaleWarning  \\\n",
       "0              N                  N           1              8                \n",
       "1              N                  N           1              8                \n",
       "2              N                  N          14              8        51 52   \n",
       "3              N                  N           5              8        31 51   \n",
       "4              N                  N          18              8     18 31 51   \n",
       "\n",
       "                       Address SqFtTotLiving Bedrooms  \n",
       "0      806   23RD ST SE  98002          1490        3  \n",
       "1      806   23RD ST SE  98002          1490        3  \n",
       "2      806   23RD ST SE  98002          1490        3  \n",
       "3      806   23RD ST SE  98002          1490        3  \n",
       "4  31814   121ST AVE SE  98092           960        3  \n",
       "\n",
       "[5 rows x 27 columns]"
      ]
     },
     "execution_count": 16,
     "metadata": {},
     "output_type": "execute_result"
    }
   ],
   "source": [
    "new_df.head()\n"
   ]
  },
  {
   "cell_type": "code",
   "execution_count": 17,
   "metadata": {},
   "outputs": [],
   "source": [
    "parcel_res_df =pd.merge(parcel_df, residentail_blg_df, left_on=['Major', 'Minor'], right_on=['Major', 'Minor'])"
   ]
  },
  {
   "cell_type": "code",
   "execution_count": 18,
   "metadata": {},
   "outputs": [
    {
     "data": {
      "text/plain": [
       "(76205, 7)"
      ]
     },
     "execution_count": 18,
     "metadata": {},
     "output_type": "execute_result"
    }
   ],
   "source": [
    "parcel_res_df.shape"
   ]
  },
  {
   "cell_type": "code",
   "execution_count": 19,
   "metadata": {},
   "outputs": [],
   "source": [
    "housing_df = pd.merge(parcel_df, new_df, left_on=['Major', 'Minor'], right_on=['Major', 'Minor'])"
   ]
  },
  {
   "cell_type": "code",
   "execution_count": 20,
   "metadata": {},
   "outputs": [
    {
     "data": {
      "text/plain": [
       "(214008, 29)"
      ]
     },
     "execution_count": 20,
     "metadata": {},
     "output_type": "execute_result"
    }
   ],
   "source": [
    "housing_df.shape"
   ]
  },
  {
   "cell_type": "code",
   "execution_count": 21,
   "metadata": {
    "scrolled": true
   },
   "outputs": [
    {
     "data": {
      "text/plain": [
       "Index(['Major', 'Minor', 'SqFtLot', 'WfntLocation', 'ExciseTaxNbr',\n",
       "       'DocumentDate', 'SalePrice', 'RecordingNbr', 'Volume', 'Page',\n",
       "       'PlatNbr', 'PlatType', 'PlatLot', 'PlatBlock', 'SellerName',\n",
       "       'BuyerName', 'PropertyType', 'PrincipalUse', 'SaleInstrument',\n",
       "       'AFForestLand', 'AFCurrentUseLand', 'AFNonProfitUse',\n",
       "       'AFHistoricProperty', 'SaleReason', 'PropertyClass', 'SaleWarning',\n",
       "       'Address', 'SqFtTotLiving', 'Bedrooms'],\n",
       "      dtype='object')"
      ]
     },
     "execution_count": 21,
     "metadata": {},
     "output_type": "execute_result"
    }
   ],
   "source": [
    "housing_df.columns"
   ]
  },
  {
   "cell_type": "markdown",
   "metadata": {},
   "source": [
    "## We are only looking at the 2017-2018 documented data"
   ]
  },
  {
   "cell_type": "code",
   "execution_count": 22,
   "metadata": {},
   "outputs": [],
   "source": [
    "housing = housing_df[(housing_df['DocumentDate'].str.endswith('2018'))|(housing_df['DocumentDate'].str.endswith('2017'))]\n",
    "# housing.info()"
   ]
  },
  {
   "cell_type": "markdown",
   "metadata": {},
   "source": [
    "## select the features"
   ]
  },
  {
   "cell_type": "code",
   "execution_count": 23,
   "metadata": {},
   "outputs": [
    {
     "data": {
      "text/plain": [
       "Index(['Major', 'Minor', 'SqFtLot', 'WfntLocation', 'ExciseTaxNbr',\n",
       "       'DocumentDate', 'SalePrice', 'RecordingNbr', 'Volume', 'Page',\n",
       "       'PlatNbr', 'PlatType', 'PlatLot', 'PlatBlock', 'SellerName',\n",
       "       'BuyerName', 'PropertyType', 'PrincipalUse', 'SaleInstrument',\n",
       "       'AFForestLand', 'AFCurrentUseLand', 'AFNonProfitUse',\n",
       "       'AFHistoricProperty', 'SaleReason', 'PropertyClass', 'SaleWarning',\n",
       "       'Address', 'SqFtTotLiving', 'Bedrooms'],\n",
       "      dtype='object')"
      ]
     },
     "execution_count": 23,
     "metadata": {},
     "output_type": "execute_result"
    }
   ],
   "source": [
    "housing.columns"
   ]
  },
  {
   "cell_type": "code",
   "execution_count": 24,
   "metadata": {},
   "outputs": [],
   "source": [
    "housing = housing[['Major','Minor','SqFtLot','WfntLocation','SalePrice','Bedrooms']]"
   ]
  },
  {
   "cell_type": "code",
   "execution_count": 25,
   "metadata": {},
   "outputs": [],
   "source": [
    "# housing.info()"
   ]
  },
  {
   "cell_type": "markdown",
   "metadata": {},
   "source": [
    "## change the waterfront values into binary values and drop the 0 saleprice "
   ]
  },
  {
   "cell_type": "code",
   "execution_count": 26,
   "metadata": {},
   "outputs": [
    {
     "data": {
      "text/plain": [
       "array([0, 1])"
      ]
     },
     "execution_count": 26,
     "metadata": {},
     "output_type": "execute_result"
    }
   ],
   "source": [
    "housing.loc[housing['WfntLocation']!=0,'WfntLocation']=1\n",
    "housing.WfntLocation.unique()"
   ]
  },
  {
   "cell_type": "code",
   "execution_count": 27,
   "metadata": {},
   "outputs": [],
   "source": [
    "drop_0sale = housing[housing['SalePrice']==0]\n",
    "housing.drop(drop_0sale.index,axis=0,inplace=True)"
   ]
  },
  {
   "cell_type": "code",
   "execution_count": 28,
   "metadata": {},
   "outputs": [
    {
     "data": {
      "text/plain": [
       "array([480000, 215000, 439950, ..., 349524, 163849, 127500])"
      ]
     },
     "execution_count": 28,
     "metadata": {},
     "output_type": "execute_result"
    }
   ],
   "source": [
    "housing.SalePrice.unique()"
   ]
  },
  {
   "cell_type": "markdown",
   "metadata": {},
   "source": [
    "## slice only the 3th to 95th percentile of the saleprice"
   ]
  },
  {
   "cell_type": "code",
   "execution_count": 29,
   "metadata": {
    "scrolled": false
   },
   "outputs": [
    {
     "name": "stderr",
     "output_type": "stream",
     "text": [
      "/Applications/anaconda3/lib/python3.6/site-packages/scipy/stats/stats.py:1713: FutureWarning: Using a non-tuple sequence for multidimensional indexing is deprecated; use `arr[tuple(seq)]` instead of `arr[seq]`. In the future this will be interpreted as an array index, `arr[np.array(seq)]`, which will result either in an error or a different result.\n",
      "  return np.add.reduce(sorted[indexer] * weights, axis=axis) / sumval\n"
     ]
    },
    {
     "data": {
      "text/plain": [
       "Text(0.5,1,'The distribution of the saleprice (before the slicing)')"
      ]
     },
     "execution_count": 29,
     "metadata": {},
     "output_type": "execute_result"
    },
    {
     "data": {
      "image/png": "[encoded data removed]",
      "text/plain": [
       "<Figure size 504x504 with 1 Axes>"
      ]
     },
     "metadata": {},
     "output_type": "display_data"
    }
   ],
   "source": [
    "# let's check the distribution of the saleprice\n",
    "import seaborn as sns\n",
    "fig,ax = plt.subplots(figsize=(7,7))\n",
    "ax = sns.distplot(housing.SalePrice)\n",
    "ax.set_title('The distribution of the saleprice (before the slicing)')"
   ]
  },
  {
   "cell_type": "code",
   "execution_count": 30,
   "metadata": {},
   "outputs": [
    {
     "name": "stdout",
     "output_type": "stream",
     "text": [
      "116311.09999999998\n",
      "1311704.0\n"
     ]
    }
   ],
   "source": [
    "# Find the 3th of the saleprice and the 95th of the salsprice\n",
    "third = np.quantile(housing.SalePrice,.03)\n",
    "ninty_five = np.quantile(housing.SalePrice,.95)\n",
    "print(third)\n",
    "print(ninty_five)"
   ]
  },
  {
   "cell_type": "code",
   "execution_count": 31,
   "metadata": {},
   "outputs": [
    {
     "data": {
      "text/plain": [
       "'1.16.4'"
      ]
     },
     "execution_count": 31,
     "metadata": {},
     "output_type": "execute_result"
    }
   ],
   "source": [
    "np.__version__"
   ]
  },
  {
   "cell_type": "code",
   "execution_count": 32,
   "metadata": {},
   "outputs": [],
   "source": [
    "# After sorted the saleprice, we get rid of the last 5%\n",
    "\n",
    "# sorted_housing = housing.SalePrice.sort_values(axis=0)\n",
    "# fifth_of_price = sorted_housing[round(0.05*len(sorted_housing))]\n",
    "# print('These are the original size of the dataframe: ',format(len(sorted_housing)))\n",
    "# sorted_toolow_housing = sorted_housing[:round(0.05*len(sorted_housing))]\n",
    "# print('These are the first 5% of the dataframe: ',format(len(sorted_toolow_housing)))\n",
    "# sorted_toohigh_housing = sorted_housing[round(-0.05*len(sorted_housing)):]\n",
    "# print('These are the last 5% of the dataframe: ',format(len(sorted_toohigh_housing)))\n",
    "# housing_df = housing.drop(index=sorted_toolow_housing.index)\n",
    "# housing_df = housing.drop(index=sorted_toohigh_housing.index)\n",
    "# print('These are the final size of the dataframe: ',format(len(housing_df)))\n",
    "# print(min(housing_df.SalePrice))\n",
    "housing_df = ((housing_df.loc[(housing_df['SalePrice']<ninty_five)&(housing_df['SalePrice']>third)]))\n",
    "# housing_df = (housing_df.loc[housing_df['SalePrice']<ninty_five])\n",
    "\n"
   ]
  },
  {
   "cell_type": "code",
   "execution_count": 33,
   "metadata": {
    "scrolled": false
   },
   "outputs": [
    {
     "name": "stderr",
     "output_type": "stream",
     "text": [
      "/Applications/anaconda3/lib/python3.6/site-packages/scipy/stats/stats.py:1713: FutureWarning: Using a non-tuple sequence for multidimensional indexing is deprecated; use `arr[tuple(seq)]` instead of `arr[seq]`. In the future this will be interpreted as an array index, `arr[np.array(seq)]`, which will result either in an error or a different result.\n",
      "  return np.add.reduce(sorted[indexer] * weights, axis=axis) / sumval\n"
     ]
    },
    {
     "data": {
      "text/plain": [
       "Text(0.5,1,'The distribution of the saleprice (after the sclicing)')"
      ]
     },
     "execution_count": 33,
     "metadata": {},
     "output_type": "execute_result"
    },
    {
     "data": {
      "image/png": "[encoded data removed]",
      "text/plain": [
       "<Figure size 504x504 with 1 Axes>"
      ]
     },
     "metadata": {},
     "output_type": "display_data"
    }
   ],
   "source": [
    "fig,ax = plt.subplots(figsize=(7,7))\n",
    "ax = sns.distplot(housing_df.SalePrice)\n",
    "ax.set_title('The distribution of the saleprice (after the sclicing)')"
   ]
  },
  {
   "cell_type": "markdown",
   "metadata": {},
   "source": [
    "## Normalizing the saleprice"
   ]
  },
  {
   "cell_type": "code",
   "execution_count": 34,
   "metadata": {},
   "outputs": [],
   "source": [
    "housing_df.SalePrice = np.log(housing_df.SalePrice)"
   ]
  },
  {
   "cell_type": "code",
   "execution_count": 35,
   "metadata": {},
   "outputs": [
    {
     "name": "stderr",
     "output_type": "stream",
     "text": [
      "/Applications/anaconda3/lib/python3.6/site-packages/scipy/stats/stats.py:1713: FutureWarning: Using a non-tuple sequence for multidimensional indexing is deprecated; use `arr[tuple(seq)]` instead of `arr[seq]`. In the future this will be interpreted as an array index, `arr[np.array(seq)]`, which will result either in an error or a different result.\n",
      "  return np.add.reduce(sorted[indexer] * weights, axis=axis) / sumval\n"
     ]
    },
    {
     "data": {
      "text/plain": [
       "Text(0.5,1,'The distribution of the saleprice (after the sclicing and scaling)')"
      ]
     },
     "execution_count": 35,
     "metadata": {},
     "output_type": "execute_result"
    },
    {
     "data": {
      "image/png": "[encoded data removed]",
      "text/plain": [
       "<Figure size 504x504 with 1 Axes>"
      ]
     },
     "metadata": {},
     "output_type": "display_data"
    }
   ],
   "source": [
    "fig,ax = plt.subplots(figsize=(7,7))\n",
    "ax = sns.distplot(housing_df.SalePrice)\n",
    "ax.set_title('The distribution of the saleprice (after the sclicing and scaling)')"
   ]
  },
  {
   "cell_type": "markdown",
   "metadata": {},
   "source": [
    "## check the multicolinearity "
   ]
  },
  {
   "cell_type": "code",
   "execution_count": 42,
   "metadata": {},
   "outputs": [],
   "source": [
    "predictors = housing_df[['WfntLocation','Bedrooms','SqFtLot']]"
   ]
  },
  {
   "cell_type": "code",
   "execution_count": 43,
   "metadata": {},
   "outputs": [
    {
     "data": {
      "image/png": "[encoded data removed]",
      "text/plain": [
       "<Figure size 504x504 with 9 Axes>"
      ]
     },
     "metadata": {},
     "output_type": "display_data"
    }
   ],
   "source": [
    "pd.plotting.scatter_matrix(predictors,figsize=(7,7));"
   ]
  },
  {
   "cell_type": "code",
   "execution_count": 94,
   "metadata": {},
   "outputs": [
    {
     "data": {
      "text/plain": [
       "<matplotlib.axes._subplots.AxesSubplot at 0x11d6a0860>"
      ]
     },
     "execution_count": 94,
     "metadata": {},
     "output_type": "execute_result"
    },
    {
     "data": {
      "image/png": "[encoded data removed]",
      "text/plain": [
       "<Figure size 432x288 with 2 Axes>"
      ]
     },
     "metadata": {},
     "output_type": "display_data"
    }
   ],
   "source": [
    "sns.heatmap(predictors.corr(),center=0)"
   ]
  },
  {
   "cell_type": "code",
   "execution_count": 95,
   "metadata": {},
   "outputs": [
    {
     "data": {
      "text/plain": [
       "array([41250,  6480,  7140, ..., 99495,  3829,  5039])"
      ]
     },
     "execution_count": 95,
     "metadata": {},
     "output_type": "execute_result"
    }
   ],
   "source": [
    "housing.SqFtLot.unique()"
   ]
  },
  {
   "cell_type": "markdown",
   "metadata": {},
   "source": [
    "## The multiple linear regression using Statsmodels"
   ]
  },
  {
   "cell_type": "code",
   "execution_count": 44,
   "metadata": {},
   "outputs": [],
   "source": [
    "import statsmodels.api as sm\n",
    "from statsmodels.formula.api import ols\n",
    "predictors_int = sm.add_constant(predictors)\n",
    "model = sm.OLS(housing_df.SalePrice,predictors_int).fit()"
   ]
  },
  {
   "cell_type": "code",
   "execution_count": 104,
   "metadata": {},
   "outputs": [
    {
     "data": {
      "text/plain": [
       "const           1.224721e+01\n",
       "WfntLocation    1.547537e-02\n",
       "Bedrooms        1.123934e-01\n",
       "SqFtLot         4.241534e-07\n",
       "dtype: float64"
      ]
     },
     "execution_count": 104,
     "metadata": {},
     "output_type": "execute_result"
    }
   ],
   "source": [
    "model.params"
   ]
  },
  {
   "cell_type": "code",
   "execution_count": 105,
   "metadata": {},
   "outputs": [
    {
     "data": {
      "text/html": [
       "<table class=\"simpletable\">\n",
       "<caption>OLS Regression Results</caption>\n",
       "<tr>\n",
       "  <th>Dep. Variable:</th>        <td>SalePrice</td>    <th>  R-squared:         </th> <td>   0.043</td> \n",
       "</tr>\n",
       "<tr>\n",
       "  <th>Model:</th>                   <td>OLS</td>       <th>  Adj. R-squared:    </th> <td>   0.043</td> \n",
       "</tr>\n",
       "<tr>\n",
       "  <th>Method:</th>             <td>Least Squares</td>  <th>  F-statistic:       </th> <td>   1694.</td> \n",
       "</tr>\n",
       "<tr>\n",
       "  <th>Date:</th>             <td>Tue, 28 May 2019</td> <th>  Prob (F-statistic):</th>  <td>  0.00</td>  \n",
       "</tr>\n",
       "<tr>\n",
       "  <th>Time:</th>                 <td>16:03:17</td>     <th>  Log-Likelihood:    </th> <td> -91988.</td> \n",
       "</tr>\n",
       "<tr>\n",
       "  <th>No. Observations:</th>      <td>113905</td>      <th>  AIC:               </th> <td>1.840e+05</td>\n",
       "</tr>\n",
       "<tr>\n",
       "  <th>Df Residuals:</th>          <td>113901</td>      <th>  BIC:               </th> <td>1.840e+05</td>\n",
       "</tr>\n",
       "<tr>\n",
       "  <th>Df Model:</th>              <td>     3</td>      <th>                     </th>     <td> </td>    \n",
       "</tr>\n",
       "<tr>\n",
       "  <th>Covariance Type:</th>      <td>nonrobust</td>    <th>                     </th>     <td> </td>    \n",
       "</tr>\n",
       "</table>\n",
       "<table class=\"simpletable\">\n",
       "<tr>\n",
       "        <td></td>          <th>coef</th>     <th>std err</th>      <th>t</th>      <th>P>|t|</th>  <th>[0.025</th>    <th>0.975]</th>  \n",
       "</tr>\n",
       "<tr>\n",
       "  <th>const</th>        <td>   12.2472</td> <td>    0.007</td> <td> 1851.695</td> <td> 0.000</td> <td>   12.234</td> <td>   12.260</td>\n",
       "</tr>\n",
       "<tr>\n",
       "  <th>WfntLocation</th> <td>    0.0155</td> <td>    0.001</td> <td>   14.526</td> <td> 0.000</td> <td>    0.013</td> <td>    0.018</td>\n",
       "</tr>\n",
       "<tr>\n",
       "  <th>Bedrooms</th>     <td>    0.1124</td> <td>    0.002</td> <td>   60.083</td> <td> 0.000</td> <td>    0.109</td> <td>    0.116</td>\n",
       "</tr>\n",
       "<tr>\n",
       "  <th>SqFtLot</th>      <td> 4.242e-07</td> <td> 1.11e-08</td> <td>   38.149</td> <td> 0.000</td> <td> 4.02e-07</td> <td> 4.46e-07</td>\n",
       "</tr>\n",
       "</table>\n",
       "<table class=\"simpletable\">\n",
       "<tr>\n",
       "  <th>Omnibus:</th>       <td>4481.056</td> <th>  Durbin-Watson:     </th> <td>   1.677</td>\n",
       "</tr>\n",
       "<tr>\n",
       "  <th>Prob(Omnibus):</th>  <td> 0.000</td>  <th>  Jarque-Bera (JB):  </th> <td>2435.003</td>\n",
       "</tr>\n",
       "<tr>\n",
       "  <th>Skew:</th>           <td> 0.191</td>  <th>  Prob(JB):          </th> <td>    0.00</td>\n",
       "</tr>\n",
       "<tr>\n",
       "  <th>Kurtosis:</th>       <td> 2.394</td>  <th>  Cond. No.          </th> <td>6.74e+05</td>\n",
       "</tr>\n",
       "</table><br/><br/>Warnings:<br/>[1] Standard Errors assume that the covariance matrix of the errors is correctly specified.<br/>[2] The condition number is large, 6.74e+05. This might indicate that there are<br/>strong multicollinearity or other numerical problems."
      ],
      "text/plain": [
       "<class 'statsmodels.iolib.summary.Summary'>\n",
       "\"\"\"\n",
       "                            OLS Regression Results                            \n",
       "==============================================================================\n",
       "Dep. Variable:              SalePrice   R-squared:                       0.043\n",
       "Model:                            OLS   Adj. R-squared:                  0.043\n",
       "Method:                 Least Squares   F-statistic:                     1694.\n",
       "Date:                Tue, 28 May 2019   Prob (F-statistic):               0.00\n",
       "Time:                        16:03:17   Log-Likelihood:                -91988.\n",
       "No. Observations:              113905   AIC:                         1.840e+05\n",
       "Df Residuals:                  113901   BIC:                         1.840e+05\n",
       "Df Model:                           3                                         \n",
       "Covariance Type:            nonrobust                                         \n",
       "================================================================================\n",
       "                   coef    std err          t      P>|t|      [0.025      0.975]\n",
       "--------------------------------------------------------------------------------\n",
       "const           12.2472      0.007   1851.695      0.000      12.234      12.260\n",
       "WfntLocation     0.0155      0.001     14.526      0.000       0.013       0.018\n",
       "Bedrooms         0.1124      0.002     60.083      0.000       0.109       0.116\n",
       "SqFtLot       4.242e-07   1.11e-08     38.149      0.000    4.02e-07    4.46e-07\n",
       "==============================================================================\n",
       "Omnibus:                     4481.056   Durbin-Watson:                   1.677\n",
       "Prob(Omnibus):                  0.000   Jarque-Bera (JB):             2435.003\n",
       "Skew:                           0.191   Prob(JB):                         0.00\n",
       "Kurtosis:                       2.394   Cond. No.                     6.74e+05\n",
       "==============================================================================\n",
       "\n",
       "Warnings:\n",
       "[1] Standard Errors assume that the covariance matrix of the errors is correctly specified.\n",
       "[2] The condition number is large, 6.74e+05. This might indicate that there are\n",
       "strong multicollinearity or other numerical problems.\n",
       "\"\"\""
      ]
     },
     "execution_count": 105,
     "metadata": {},
     "output_type": "execute_result"
    }
   ],
   "source": [
    "model.summary()"
   ]
  },
  {
   "cell_type": "markdown",
   "metadata": {},
   "source": [
    "## The multiple linear regression using sklearn"
   ]
  },
  {
   "cell_type": "code",
   "execution_count": 46,
   "metadata": {},
   "outputs": [
    {
     "data": {
      "text/plain": [
       "LinearRegression(copy_X=True, fit_intercept=True, n_jobs=1, normalize=False)"
      ]
     },
     "execution_count": 46,
     "metadata": {},
     "output_type": "execute_result"
    }
   ],
   "source": [
    "from sklearn.linear_model import LinearRegression\n",
    "y = housing_df.SalePrice\n",
    "linreg = LinearRegression()\n",
    "linreg.fit(predictors,y)"
   ]
  },
  {
   "cell_type": "code",
   "execution_count": 107,
   "metadata": {
    "scrolled": true
   },
   "outputs": [
    {
     "name": "stdout",
     "output_type": "stream",
     "text": [
      "[1.54753728e-02 1.12393350e-01 4.24153384e-07]\n",
      "12.247205528473042\n"
     ]
    }
   ],
   "source": [
    "print(linreg.coef_)\n",
    "print(linreg.intercept_)"
   ]
  },
  {
   "cell_type": "markdown",
   "metadata": {},
   "source": [
    "## Cross-validation"
   ]
  },
  {
   "cell_type": "code",
   "execution_count": 47,
   "metadata": {},
   "outputs": [
    {
     "name": "stdout",
     "output_type": "stream",
     "text": [
      "0.0467012971341525\n",
      "[1.57785270e-02 1.12736913e-01 3.96301792e-07]\n",
      "12.247148414785292\n"
     ]
    }
   ],
   "source": [
    "from sklearn.model_selection import train_test_split\n",
    "import sklearn.metrics as metrics\n",
    "X_train, X_test, y_train, y_test = train_test_split(predictors, housing_df.SalePrice)\n",
    "lr = LinearRegression()\n",
    "lr.fit(X_train, y_train)\n",
    "lr.predict(X_test)\n",
    "print(lr.score(X_test, y_test))\n",
    "print(lr.coef_)\n",
    "print(lr.intercept_)\n"
   ]
  },
  {
   "cell_type": "markdown",
   "metadata": {},
   "source": [
    "## Let's see if the prediction model would be better if we use KNN "
   ]
  },
  {
   "cell_type": "markdown",
   "metadata": {},
   "source": [
    "## We are also doing the standard scaling"
   ]
  },
  {
   "cell_type": "code",
   "execution_count": 48,
   "metadata": {},
   "outputs": [],
   "source": [
    "from sklearn.model_selection import train_test_split, cross_val_score\n",
    "from sklearn.metrics import mean_squared_error, r2_score\n",
    "from sklearn.preprocessing import StandardScaler\n",
    "from sklearn.decomposition import PCA"
   ]
  },
  {
   "cell_type": "code",
   "execution_count": 49,
   "metadata": {},
   "outputs": [],
   "source": [
    "scaler = StandardScaler()\n",
    "\n",
    "scaler.fit(X_train)\n",
    "\n",
    "X_train_scaled = scaler.transform(X_train)\n",
    "X_test_scaled = scaler.transform(X_test)"
   ]
  },
  {
   "cell_type": "markdown",
   "metadata": {},
   "source": [
    "## Let's use the sklearn's KNN implementation"
   ]
  },
  {
   "cell_type": "code",
   "execution_count": 50,
   "metadata": {},
   "outputs": [],
   "source": [
    "from sklearn.neighbors import KNeighborsRegressor"
   ]
  },
  {
   "cell_type": "code",
   "execution_count": 51,
   "metadata": {},
   "outputs": [
    {
     "name": "stdout",
     "output_type": "stream",
     "text": [
      "Root Mean Squared Error: 0.5418755645309961\n"
     ]
    }
   ],
   "source": [
    "nn = KNeighborsRegressor(n_neighbors=5, n_jobs=-1)\n",
    "\n",
    "nn.fit(X_train_scaled, y_train)\n",
    "\n",
    "sk_preds = nn.predict(X_test_scaled)\n",
    "\n",
    "rmse = np.sqrt(mean_squared_error(y_test, sk_preds))\n",
    "\n",
    "print(f'Root Mean Squared Error: {rmse}')"
   ]
  },
  {
   "cell_type": "markdown",
   "metadata": {},
   "source": [
    "## What K value should we pick?"
   ]
  },
  {
   "cell_type": "code",
   "execution_count": 52,
   "metadata": {},
   "outputs": [],
   "source": [
    "ks = range(1, 30)\n",
    "\n",
    "test_errors = np.zeros(len(list(ks)))\n",
    "\n",
    "for i, k in enumerate(ks):\n",
    "    \n",
    "    nn = KNeighborsRegressor(n_neighbors=k, n_jobs=-1)\n",
    "\n",
    "    nn.fit(X_train_scaled, y_train)\n",
    "    preds = nn.predict(X_test_scaled)\n",
    "    \n",
    "    test_errors[i] = np.sqrt(mean_squared_error(y_test, preds))"
   ]
  },
  {
   "cell_type": "code",
   "execution_count": 53,
   "metadata": {},
   "outputs": [
    {
     "data": {
      "image/png": "[encoded data removed]",
      "text/plain": [
       "<Figure size 720x360 with 1 Axes>"
      ]
     },
     "metadata": {},
     "output_type": "display_data"
    }
   ],
   "source": [
    "fig, ax = plt.subplots(figsize=(10, 5))\n",
    "\n",
    "ax.plot(list(ks), test_errors)\n",
    "ax.axvline(list(ks)[np.argmin(test_errors)], linestyle='--', color='black');"
   ]
  },
  {
   "cell_type": "code",
   "execution_count": 56,
   "metadata": {},
   "outputs": [
    {
     "data": {
      "text/plain": [
       "array([0.67962166, 0.5947958 , 0.56455548, 0.54890005, 0.54187556,\n",
       "       0.53508438, 0.53115317, 0.52728603, 0.52470772, 0.52314382,\n",
       "       0.52204159, 0.52053658, 0.51980772, 0.51937155, 0.51845899,\n",
       "       0.51811536, 0.51709644, 0.51681593, 0.51615588, 0.51581715,\n",
       "       0.51529065, 0.51488884, 0.51470597, 0.51425034, 0.51363124,\n",
       "       0.51346965, 0.51327616, 0.5129185 , 0.51269167])"
      ]
     },
     "execution_count": 56,
     "metadata": {},
     "output_type": "execute_result"
    }
   ],
   "source": [
    "test_errors"
   ]
  },
  {
   "cell_type": "code",
   "execution_count": null,
   "metadata": {},
   "outputs": [],
   "source": []
  }
 ],
 "metadata": {
  "kernelspec": {
   "display_name": "Python 3",
   "language": "python",
   "name": "python3"
  },
  "language_info": {
   "codemirror_mode": {
    "name": "ipython",
    "version": 3
   },
   "file_extension": ".py",
   "mimetype": "text/x-python",
   "name": "python",
   "nbconvert_exporter": "python",
   "pygments_lexer": "ipython3",
   "version": "3.6.5"
  }
 },
 "nbformat": 4,
 "nbformat_minor": 2
}
