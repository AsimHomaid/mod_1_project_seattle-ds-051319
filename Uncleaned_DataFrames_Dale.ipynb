{
 "cells": [
  {
   "cell_type": "code",
   "execution_count": 2,
   "metadata": {},
   "outputs": [],
   "source": [
    "import pandas as pd\n",
    "import numpy as np\n",
    "\n",
    "import matplotlib.pyplot as plt"
   ]
  },
  {
   "cell_type": "code",
   "execution_count": 8,
   "metadata": {},
   "outputs": [],
   "source": [
    "parcel_df = pd.read_csv('Parcel.csv', encoding='latin-1')"
   ]
  },
  {
   "cell_type": "code",
   "execution_count": 7,
   "metadata": {},
   "outputs": [
    {
     "data": {
      "text/plain": [
       "Index(['Major', 'Minor', 'PropName', 'PlatName', 'PlatLot', 'PlatBlock',\n",
       "       'Range', 'Township', 'Section', 'QuarterSection', 'PropType', 'Area',\n",
       "       'SubArea', 'SpecArea', 'SpecSubArea', 'DistrictName', 'LevyCode',\n",
       "       'CurrentZoning', 'HBUAsIfVacant', 'HBUAsImproved', 'PresentUse',\n",
       "       'SqFtLot', 'WaterSystem', 'SewerSystem', 'Access', 'Topography',\n",
       "       'StreetSurface', 'RestrictiveSzShape', 'InadequateParking',\n",
       "       'PcntUnusable', 'Unbuildable', 'MtRainier', 'Olympics', 'Cascades',\n",
       "       'Territorial', 'SeattleSkyline', 'PugetSound', 'LakeWashington',\n",
       "       'LakeSammamish', 'SmallLakeRiverCreek', 'OtherView', 'WfntLocation',\n",
       "       'WfntFootage', 'WfntBank', 'WfntPoorQuality', 'WfntRestrictedAccess',\n",
       "       'WfntAccessRights', 'WfntProximityInfluence', 'TidelandShoreland',\n",
       "       'LotDepthFactor', 'TrafficNoise', 'AirportNoise', 'PowerLines',\n",
       "       'OtherNuisances', 'NbrBldgSites', 'Contamination', 'DNRLease',\n",
       "       'AdjacentGolfFairway', 'AdjacentGreenbelt', 'HistoricSite',\n",
       "       'CurrentUseDesignation', 'NativeGrowthProtEsmt', 'Easements',\n",
       "       'OtherDesignation', 'DeedRestrictions', 'DevelopmentRightsPurch',\n",
       "       'CoalMineHazard', 'CriticalDrainage', 'ErosionHazard', 'LandfillBuffer',\n",
       "       'HundredYrFloodPlain', 'SeismicHazard', 'LandslideHazard',\n",
       "       'SteepSlopeHazard', 'Stream', 'Wetland', 'SpeciesOfConcern',\n",
       "       'SensitiveAreaTract', 'WaterProblems', 'TranspConcurrency',\n",
       "       'OtherProblems'],\n",
       "      dtype='object')"
      ]
     },
     "execution_count": 7,
     "metadata": {},
     "output_type": "execute_result"
    }
   ],
   "source": [
    "parcel_df.columns"
   ]
  },
  {
   "cell_type": "code",
   "execution_count": 9,
   "metadata": {},
   "outputs": [],
   "source": [
    "parcel_wtr_df = parcel_df[['Major', 'Minor', \"SqFtLot\", \"WfntLocation\"]]"
   ]
  },
  {
   "cell_type": "code",
   "execution_count": 10,
   "metadata": {},
   "outputs": [
    {
     "data": {
      "text/html": [
       "<div>\n",
       "<style scoped>\n",
       "    .dataframe tbody tr th:only-of-type {\n",
       "        vertical-align: middle;\n",
       "    }\n",
       "\n",
       "    .dataframe tbody tr th {\n",
       "        vertical-align: top;\n",
       "    }\n",
       "\n",
       "    .dataframe thead th {\n",
       "        text-align: right;\n",
       "    }\n",
       "</style>\n",
       "<table border=\"1\" class=\"dataframe\">\n",
       "  <thead>\n",
       "    <tr style=\"text-align: right;\">\n",
       "      <th></th>\n",
       "      <th>Major</th>\n",
       "      <th>Minor</th>\n",
       "      <th>SqFtLot</th>\n",
       "      <th>WfntLocation</th>\n",
       "    </tr>\n",
       "  </thead>\n",
       "  <tbody>\n",
       "    <tr>\n",
       "      <th>0</th>\n",
       "      <td>42105</td>\n",
       "      <td>9040</td>\n",
       "      <td>14850</td>\n",
       "      <td>0</td>\n",
       "    </tr>\n",
       "    <tr>\n",
       "      <th>1</th>\n",
       "      <td>803540</td>\n",
       "      <td>320</td>\n",
       "      <td>13952</td>\n",
       "      <td>0</td>\n",
       "    </tr>\n",
       "    <tr>\n",
       "      <th>2</th>\n",
       "      <td>52406</td>\n",
       "      <td>9057</td>\n",
       "      <td>447361</td>\n",
       "      <td>0</td>\n",
       "    </tr>\n",
       "    <tr>\n",
       "      <th>3</th>\n",
       "      <td>113730</td>\n",
       "      <td>520</td>\n",
       "      <td>26000</td>\n",
       "      <td>0</td>\n",
       "    </tr>\n",
       "    <tr>\n",
       "      <th>4</th>\n",
       "      <td>932090</td>\n",
       "      <td>240</td>\n",
       "      <td>3000</td>\n",
       "      <td>0</td>\n",
       "    </tr>\n",
       "  </tbody>\n",
       "</table>\n",
       "</div>"
      ],
      "text/plain": [
       "    Major  Minor  SqFtLot  WfntLocation\n",
       "0   42105   9040    14850             0\n",
       "1  803540    320    13952             0\n",
       "2   52406   9057   447361             0\n",
       "3  113730    520    26000             0\n",
       "4  932090    240     3000             0"
      ]
     },
     "execution_count": 10,
     "metadata": {},
     "output_type": "execute_result"
    }
   ],
   "source": [
    "parcel_wtr_df.head()"
   ]
  },
  {
   "cell_type": "code",
   "execution_count": 11,
   "metadata": {},
   "outputs": [],
   "source": [
    "unit_df = pd.read_csv('UnitBreakdown.csv')"
   ]
  },
  {
   "cell_type": "code",
   "execution_count": 12,
   "metadata": {},
   "outputs": [
    {
     "data": {
      "text/html": [
       "<div>\n",
       "<style scoped>\n",
       "    .dataframe tbody tr th:only-of-type {\n",
       "        vertical-align: middle;\n",
       "    }\n",
       "\n",
       "    .dataframe tbody tr th {\n",
       "        vertical-align: top;\n",
       "    }\n",
       "\n",
       "    .dataframe thead th {\n",
       "        text-align: right;\n",
       "    }\n",
       "</style>\n",
       "<table border=\"1\" class=\"dataframe\">\n",
       "  <thead>\n",
       "    <tr style=\"text-align: right;\">\n",
       "      <th></th>\n",
       "      <th>Major</th>\n",
       "      <th>Minor</th>\n",
       "      <th>NbrBedrooms</th>\n",
       "      <th>NbrBaths</th>\n",
       "      <th>SqFt</th>\n",
       "    </tr>\n",
       "  </thead>\n",
       "  <tbody>\n",
       "    <tr>\n",
       "      <th>0</th>\n",
       "      <td>82605</td>\n",
       "      <td>9206</td>\n",
       "      <td>0</td>\n",
       "      <td>1.0</td>\n",
       "      <td>813</td>\n",
       "    </tr>\n",
       "    <tr>\n",
       "      <th>1</th>\n",
       "      <td>722850</td>\n",
       "      <td>2420</td>\n",
       "      <td>5</td>\n",
       "      <td>2.0</td>\n",
       "      <td>0</td>\n",
       "    </tr>\n",
       "    <tr>\n",
       "      <th>2</th>\n",
       "      <td>292605</td>\n",
       "      <td>9021</td>\n",
       "      <td>3</td>\n",
       "      <td>2.0</td>\n",
       "      <td>1165</td>\n",
       "    </tr>\n",
       "    <tr>\n",
       "      <th>3</th>\n",
       "      <td>182604</td>\n",
       "      <td>9228</td>\n",
       "      <td>1</td>\n",
       "      <td>1.0</td>\n",
       "      <td>0</td>\n",
       "    </tr>\n",
       "    <tr>\n",
       "      <th>4</th>\n",
       "      <td>720000</td>\n",
       "      <td>201</td>\n",
       "      <td>1</td>\n",
       "      <td>1.0</td>\n",
       "      <td>750</td>\n",
       "    </tr>\n",
       "  </tbody>\n",
       "</table>\n",
       "</div>"
      ],
      "text/plain": [
       "    Major  Minor NbrBedrooms  NbrBaths  SqFt\n",
       "0   82605   9206           0       1.0   813\n",
       "1  722850   2420           5       2.0     0\n",
       "2  292605   9021           3       2.0  1165\n",
       "3  182604   9228           1       1.0     0\n",
       "4  720000    201           1       1.0   750"
      ]
     },
     "execution_count": 12,
     "metadata": {},
     "output_type": "execute_result"
    }
   ],
   "source": [
    "unit_n_br_df = unit_df[['Major', 'Minor','NbrBedrooms', 'NbrBaths', 'SqFt']]\n",
    "\n",
    "unit_n_br_df.head()"
   ]
  },
  {
   "cell_type": "code",
   "execution_count": 13,
   "metadata": {},
   "outputs": [
    {
     "name": "stderr",
     "output_type": "stream",
     "text": [
      "/anaconda3/lib/python3.7/site-packages/IPython/core/interactiveshell.py:3049: DtypeWarning: Columns (1,2) have mixed types. Specify dtype option on import or set low_memory=False.\n",
      "  interactivity=interactivity, compiler=compiler, result=result)\n"
     ]
    }
   ],
   "source": [
    "sale_df = pd.read_csv('Sale.csv')"
   ]
  },
  {
   "cell_type": "code",
   "execution_count": 14,
   "metadata": {},
   "outputs": [
    {
     "data": {
      "text/html": [
       "<div>\n",
       "<style scoped>\n",
       "    .dataframe tbody tr th:only-of-type {\n",
       "        vertical-align: middle;\n",
       "    }\n",
       "\n",
       "    .dataframe tbody tr th {\n",
       "        vertical-align: top;\n",
       "    }\n",
       "\n",
       "    .dataframe thead th {\n",
       "        text-align: right;\n",
       "    }\n",
       "</style>\n",
       "<table border=\"1\" class=\"dataframe\">\n",
       "  <thead>\n",
       "    <tr style=\"text-align: right;\">\n",
       "      <th></th>\n",
       "      <th>Major</th>\n",
       "      <th>Minor</th>\n",
       "      <th>SalePrice</th>\n",
       "    </tr>\n",
       "  </thead>\n",
       "  <tbody>\n",
       "    <tr>\n",
       "      <th>0</th>\n",
       "      <td>138860</td>\n",
       "      <td>110</td>\n",
       "      <td>245000</td>\n",
       "    </tr>\n",
       "    <tr>\n",
       "      <th>1</th>\n",
       "      <td>664885</td>\n",
       "      <td>40</td>\n",
       "      <td>0</td>\n",
       "    </tr>\n",
       "    <tr>\n",
       "      <th>2</th>\n",
       "      <td>423943</td>\n",
       "      <td>50</td>\n",
       "      <td>0</td>\n",
       "    </tr>\n",
       "    <tr>\n",
       "      <th>3</th>\n",
       "      <td>403700</td>\n",
       "      <td>715</td>\n",
       "      <td>0</td>\n",
       "    </tr>\n",
       "    <tr>\n",
       "      <th>4</th>\n",
       "      <td>951120</td>\n",
       "      <td>900</td>\n",
       "      <td>85000</td>\n",
       "    </tr>\n",
       "  </tbody>\n",
       "</table>\n",
       "</div>"
      ],
      "text/plain": [
       "    Major Minor  SalePrice\n",
       "0  138860   110     245000\n",
       "1  664885    40          0\n",
       "2  423943    50          0\n",
       "3  403700   715          0\n",
       "4  951120   900      85000"
      ]
     },
     "execution_count": 14,
     "metadata": {},
     "output_type": "execute_result"
    }
   ],
   "source": [
    "sale_df = sale_df[['Major', 'Minor', 'SalePrice']]\n",
    "\n",
    "sale_df.head()"
   ]
  },
  {
   "cell_type": "code",
   "execution_count": 15,
   "metadata": {},
   "outputs": [],
   "source": [
    "sale_df['Major'] = pd.to_numeric(sale_df['Major'], errors='coerce')\n"
   ]
  },
  {
   "cell_type": "code",
   "execution_count": 16,
   "metadata": {},
   "outputs": [],
   "source": [
    "sale_df['Minor'] = pd.to_numeric(sale_df['Minor'], errors='coerce')"
   ]
  },
  {
   "cell_type": "code",
   "execution_count": 17,
   "metadata": {},
   "outputs": [
    {
     "name": "stdout",
     "output_type": "stream",
     "text": [
      "<class 'pandas.core.frame.DataFrame'>\n",
      "RangeIndex: 2023223 entries, 0 to 2023222\n",
      "Data columns (total 3 columns):\n",
      "Major        float64\n",
      "Minor        float64\n",
      "SalePrice    int64\n",
      "dtypes: float64(2), int64(1)\n",
      "memory usage: 46.3 MB\n"
     ]
    }
   ],
   "source": [
    "sale_df.info()"
   ]
  },
  {
   "cell_type": "code",
   "execution_count": 18,
   "metadata": {},
   "outputs": [
    {
     "data": {
      "text/plain": [
       "2"
      ]
     },
     "execution_count": 18,
     "metadata": {},
     "output_type": "execute_result"
    }
   ],
   "source": [
    "sale_df['Major'].isna().sum()"
   ]
  },
  {
   "cell_type": "code",
   "execution_count": 19,
   "metadata": {},
   "outputs": [],
   "source": [
    "sale_df = sale_df.dropna()"
   ]
  },
  {
   "cell_type": "code",
   "execution_count": 20,
   "metadata": {},
   "outputs": [
    {
     "data": {
      "text/html": [
       "<div>\n",
       "<style scoped>\n",
       "    .dataframe tbody tr th:only-of-type {\n",
       "        vertical-align: middle;\n",
       "    }\n",
       "\n",
       "    .dataframe tbody tr th {\n",
       "        vertical-align: top;\n",
       "    }\n",
       "\n",
       "    .dataframe thead th {\n",
       "        text-align: right;\n",
       "    }\n",
       "</style>\n",
       "<table border=\"1\" class=\"dataframe\">\n",
       "  <thead>\n",
       "    <tr style=\"text-align: right;\">\n",
       "      <th></th>\n",
       "      <th>Major</th>\n",
       "      <th>Minor</th>\n",
       "      <th>SalePrice</th>\n",
       "    </tr>\n",
       "  </thead>\n",
       "  <tbody>\n",
       "    <tr>\n",
       "      <th>0</th>\n",
       "      <td>138860.0</td>\n",
       "      <td>110.0</td>\n",
       "      <td>245000</td>\n",
       "    </tr>\n",
       "    <tr>\n",
       "      <th>1</th>\n",
       "      <td>664885.0</td>\n",
       "      <td>40.0</td>\n",
       "      <td>0</td>\n",
       "    </tr>\n",
       "    <tr>\n",
       "      <th>2</th>\n",
       "      <td>423943.0</td>\n",
       "      <td>50.0</td>\n",
       "      <td>0</td>\n",
       "    </tr>\n",
       "    <tr>\n",
       "      <th>3</th>\n",
       "      <td>403700.0</td>\n",
       "      <td>715.0</td>\n",
       "      <td>0</td>\n",
       "    </tr>\n",
       "    <tr>\n",
       "      <th>4</th>\n",
       "      <td>951120.0</td>\n",
       "      <td>900.0</td>\n",
       "      <td>85000</td>\n",
       "    </tr>\n",
       "  </tbody>\n",
       "</table>\n",
       "</div>"
      ],
      "text/plain": [
       "      Major  Minor  SalePrice\n",
       "0  138860.0  110.0     245000\n",
       "1  664885.0   40.0          0\n",
       "2  423943.0   50.0          0\n",
       "3  403700.0  715.0          0\n",
       "4  951120.0  900.0      85000"
      ]
     },
     "execution_count": 20,
     "metadata": {},
     "output_type": "execute_result"
    }
   ],
   "source": [
    "sale_df.head()"
   ]
  },
  {
   "cell_type": "code",
   "execution_count": 21,
   "metadata": {},
   "outputs": [
    {
     "data": {
      "text/plain": [
       "Major        0\n",
       "Minor        0\n",
       "SalePrice    0\n",
       "dtype: int64"
      ]
     },
     "execution_count": 21,
     "metadata": {},
     "output_type": "execute_result"
    }
   ],
   "source": [
    "sale_df.isna().sum()"
   ]
  },
  {
   "cell_type": "code",
   "execution_count": 22,
   "metadata": {},
   "outputs": [
    {
     "name": "stdout",
     "output_type": "stream",
     "text": [
      "<class 'pandas.core.frame.DataFrame'>\n",
      "Int64Index: 2023221 entries, 0 to 2023222\n",
      "Data columns (total 3 columns):\n",
      "Major        float64\n",
      "Minor        float64\n",
      "SalePrice    int64\n",
      "dtypes: float64(2), int64(1)\n",
      "memory usage: 61.7 MB\n"
     ]
    }
   ],
   "source": [
    "sale_df.info()"
   ]
  },
  {
   "cell_type": "code",
   "execution_count": null,
   "metadata": {},
   "outputs": [],
   "source": [
    "parcel_wtr_df[['Major', 'Minor']]\n",
    "unit_n_br_df[['Major', 'Minor']]"
   ]
  },
  {
   "cell_type": "code",
   "execution_count": 23,
   "metadata": {
    "scrolled": true
   },
   "outputs": [],
   "source": [
    "sale_df[['Major', 'Minor']] = sale_df[['Major', 'Minor']].astype('int64')"
   ]
  },
  {
   "cell_type": "code",
   "execution_count": 24,
   "metadata": {},
   "outputs": [
    {
     "name": "stdout",
     "output_type": "stream",
     "text": [
      "<class 'pandas.core.frame.DataFrame'>\n",
      "Int64Index: 2023221 entries, 0 to 2023222\n",
      "Data columns (total 3 columns):\n",
      "Major        int64\n",
      "Minor        int64\n",
      "SalePrice    int64\n",
      "dtypes: int64(3)\n",
      "memory usage: 61.7 MB\n"
     ]
    }
   ],
   "source": [
    "sale_df.info()"
   ]
  },
  {
   "cell_type": "code",
   "execution_count": 25,
   "metadata": {},
   "outputs": [
    {
     "name": "stdout",
     "output_type": "stream",
     "text": [
      "<class 'pandas.core.frame.DataFrame'>\n",
      "Int64Index: 2023221 entries, 0 to 2023222\n",
      "Data columns (total 3 columns):\n",
      "Major        int64\n",
      "Minor        int64\n",
      "SalePrice    int64\n",
      "dtypes: int64(3)\n",
      "memory usage: 61.7 MB\n"
     ]
    }
   ],
   "source": [
    "sale_df.info()"
   ]
  },
  {
   "cell_type": "code",
   "execution_count": null,
   "metadata": {},
   "outputs": [],
   "source": []
  },
  {
   "cell_type": "code",
   "execution_count": null,
   "metadata": {},
   "outputs": [],
   "source": []
  },
  {
   "cell_type": "code",
   "execution_count": null,
   "metadata": {},
   "outputs": [],
   "source": []
  },
  {
   "cell_type": "code",
   "execution_count": null,
   "metadata": {},
   "outputs": [],
   "source": []
  },
  {
   "cell_type": "code",
   "execution_count": null,
   "metadata": {},
   "outputs": [],
   "source": []
  },
  {
   "cell_type": "code",
   "execution_count": null,
   "metadata": {},
   "outputs": [],
   "source": [
    "sale_df.head()"
   ]
  },
  {
   "cell_type": "code",
   "execution_count": null,
   "metadata": {},
   "outputs": [],
   "source": [
    "sale_parcel_df = pd.merge(sale_df, parcel_wtr_df, on=['Major', 'Minor'])"
   ]
  },
  {
   "cell_type": "code",
   "execution_count": null,
   "metadata": {},
   "outputs": [],
   "source": [
    "sale_parcel_df.head(20)"
   ]
  },
  {
   "cell_type": "code",
   "execution_count": null,
   "metadata": {},
   "outputs": [],
   "source": []
  },
  {
   "cell_type": "code",
   "execution_count": null,
   "metadata": {},
   "outputs": [],
   "source": [
    "housing_df = pd.merge(joined_housing_df, unit_n_br_df, on=['Major', 'Minor'])"
   ]
  },
  {
   "cell_type": "code",
   "execution_count": null,
   "metadata": {},
   "outputs": [],
   "source": [
    "housing_df.head(20)"
   ]
  },
  {
   "cell_type": "code",
   "execution_count": null,
   "metadata": {},
   "outputs": [],
   "source": []
  }
 ],
 "metadata": {
  "kernelspec": {
   "display_name": "Python 3",
   "language": "python",
   "name": "python3"
  },
  "language_info": {
   "codemirror_mode": {
    "name": "ipython",
    "version": 3
   },
   "file_extension": ".py",
   "mimetype": "text/x-python",
   "name": "python",
   "nbconvert_exporter": "python",
   "pygments_lexer": "ipython3",
   "version": "3.7.3"
  }
 },
 "nbformat": 4,
 "nbformat_minor": 2
}
